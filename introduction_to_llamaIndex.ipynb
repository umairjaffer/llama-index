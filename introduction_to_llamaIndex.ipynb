{
 "cells": [
  {
   "cell_type": "code",
   "execution_count": 4,
   "metadata": {},
   "outputs": [],
   "source": [
    "# # installing the lib\n",
    "# pip install llama-index\n",
    "# pip install llama-hub\n",
    "# pip install openai"
   ]
  },
  {
   "cell_type": "code",
   "execution_count": 5,
   "metadata": {},
   "outputs": [],
   "source": [
    "# setting up the openai api key in os envoirment\n",
    "import os\n",
    "import openai\n",
    "os.environ[\"OPENAI_API_KEY\"] = \"sk-xxxxxxx\"\n",
    "openai.api_key = \"sk-xxxxx\"\n"
   ]
  },
  {
   "cell_type": "code",
   "execution_count": 6,
   "metadata": {},
   "outputs": [],
   "source": [
    "from llama_index.core import VectorStoreIndex,SimpleDirectoryReader"
   ]
  },
  {
   "cell_type": "code",
   "execution_count": 7,
   "metadata": {},
   "outputs": [],
   "source": [
    "documents = SimpleDirectoryReader(r\"D:\\llmaIndex-2\\data_folder\").load_data()"
   ]
  },
  {
   "cell_type": "code",
   "execution_count": 8,
   "metadata": {},
   "outputs": [
    {
     "data": {
      "text/plain": [
       "[Document(id_='d9273a51-cc48-4b8a-a801-60f85a506984', embedding=None, metadata={'file_path': 'D:\\\\llmaIndex-2\\\\data_folder\\\\1pdf_log.txt', 'file_name': '1pdf_log.txt', 'file_type': 'text/plain', 'file_size': 2911, 'creation_date': '2024-04-30', 'last_modified_date': '2022-05-02'}, excluded_embed_metadata_keys=['file_name', 'file_type', 'file_size', 'creation_date', 'last_modified_date', 'last_accessed_date'], excluded_llm_metadata_keys=['file_name', 'file_type', 'file_size', 'creation_date', 'last_modified_date', 'last_accessed_date'], relationships={}, text=\"\\uf095 9176163248\\n\\uf0e0 arushigupta9431@gmail.com\\n\\uf041 Bengaluru\\n\\uf0e1 arushigupta05\\nARUSHI GUPTA\\nSenior System Engineer\\nSUMMARY\\n3.5 years experienced Front-End Web Developer  skilled in UI development with React JS, testing etc. Adept at end to end UI \\ndevelopment including requirement gathering, coding & unit & integration testing. Looking forward to widen my skills and experience \\nin a challenging opportunity in professional organization.\\nPROFESSIONAL EXPERIENCE\\nInfosys Limited\\nBank Of America\\nThe Bank of America Corporation is an American multinational investment bank and financial services holding company\\nProduct: A workplace to store and manage the underwriting documents of the bank.\\nFrontend: React TypeScript, HTML5 , CSS3, Material UI\\nDeveloped multiple screens for the application, reusable components such as  Dialog Box, Tables etc.\\nDec '17 - Present\\nIntegrated the API's to fetch data from clients data base and to add to the database.\\nTested the screens with Jest and Enzyme.\\nBlume Global\\nA US based logistics platform provider, building cloud solutions in the areas of shipment planning , logistics execution and finance.\\nProduct: Modules to store data for delivering products and services more efficiently for assets, visibility, finance, optimization and \\nlogistics.\\nFrontend: React JS, Javascript, HTML5 , CSS3, Material UI\\nDeveloped forms like structure, accordians, autofills , etc that will help the driver to deliver to particular address and help client \\nstore the logs.\\nIdentify recurrent problems with existing sites and come up with fixes.\\nLangiage localisation for application to be available in required languages.\\nIntegrated the API's to fetch data from clients data base and to add to the database.\\nSysco\\nA US based MNC inolved in distribution of food products, smallwares, kitchenware equipments to restraunts, healthcare facilities , hotels , etc.\\nProduct: Developed application to view and update the freight rate and pickup allowances for multiple vendors across US. And also  \\ndeveloped a part of content management tool to manage the financial documents of the client.\\nFrontend: React JS, Redux,  Javascript HTML5 , CSS3, Bootstrap\\nDeveloped user friendly responsive screens for the application.\\nCreated the country based login screen and dashboard.\\nWorked in application design and architecture to add all the details of the vendor and freight rates.\\nIntegrated the API's to fetch data from clients data base and to add to the database.\\nUI Development \\nUnit Testing\\n Agile Methodology\\n Code Optimization \\nDocumentation\\nKEY SKILLS\\nTECHNICAL SKILLS\\nTechnologies: JavaScript, React JS, Redux, Hooks, HTML5, CSS3, Typescript\\nCSS : CSS3, Bootstrap, Material UI\\nTesting Tools: Jest and Enzyme\\nCERTIFICATIONS\\nUdacity certified Front End Web Developer Nanodegree Program\\nEDUCATION\\nSRM University\\nB.Tech in Electronics and Communications\\nCreated Using\\nApr '13 - May '17\\nChennai, TN\\n\", start_char_idx=None, end_char_idx=None, text_template='{metadata_str}\\n\\n{content}', metadata_template='{key}: {value}', metadata_seperator='\\n'),\n",
       " Document(id_='75606a7b-7d92-4fc6-8c8e-70fae22ae61b', embedding=None, metadata={'file_path': 'D:\\\\llmaIndex-2\\\\data_folder\\\\2pdf_log.txt', 'file_name': '2pdf_log.txt', 'file_type': 'text/plain', 'file_size': 700, 'creation_date': '2024-04-30', 'last_modified_date': '2022-05-02'}, excluded_embed_metadata_keys=['file_name', 'file_type', 'file_size', 'creation_date', 'last_modified_date', 'last_accessed_date'], excluded_llm_metadata_keys=['file_name', 'file_type', 'file_size', 'creation_date', 'last_modified_date', 'last_accessed_date'], relationships={}, text=\"Email ID\\nraoashutosh0000@gmail.com\\n:\\n:\\nAddress\\nHno-14 opp gov school Mirzapur tigaon road ballabgarh, Faridabad, Haryana, India - 121004\\nFresh graduate eager to use my knowledge and learn new skills to contribute to your company's growth.\\nAshish yadav\\nMobile\\n8700791076\\n:\\nObjective\\nEducation\\nCollege\\nmanav rachna international university, Bachelor - B.tech\\nSchool\\nntpc sachdeva international school\\nWork Experience\\nmaac institute\\nFaridabad, India\\nfresher\\nDone project named - BRANIA:- AN INTELLIGENT ASSISTENT\\nSkills & Interests\\nHobbies:\\nPlaying Cricket Reading\\n, \\nOther Work Skills\\nCreating Presentations\\nMicrosoft Excel\\nPYTHON PROGRAMMING\\nFull Time, May 2020\\nMarch 2014\\nJune 2019 - August 2019\\n   \\n\", start_char_idx=None, end_char_idx=None, text_template='{metadata_str}\\n\\n{content}', metadata_template='{key}: {value}', metadata_seperator='\\n'),\n",
       " Document(id_='2d21c887-2c02-437e-af06-58b79f4e8bb1', embedding=None, metadata={'file_path': 'D:\\\\llmaIndex-2\\\\data_folder\\\\3pdf_log.txt', 'file_name': '3pdf_log.txt', 'file_type': 'text/plain', 'file_size': 6663, 'creation_date': '2024-04-30', 'last_modified_date': '2022-05-02'}, excluded_embed_metadata_keys=['file_name', 'file_type', 'file_size', 'creation_date', 'last_modified_date', 'last_accessed_date'], excluded_llm_metadata_keys=['file_name', 'file_type', 'file_size', 'creation_date', 'last_modified_date', 'last_accessed_date'], relationships={}, text='Ashish   Sinha   \\xa0\\nMachine   Learning   Engineer   \\xa0\\nSector   168,   Noida,   Uttar   pradesh,   201304    *    +91-8889682639    *     ashishsavitrisinha96@gmail.com    \\xa0\\xa0\\n\\xa0\\n \\xa0\\nCAREER   OBJECTIVE \\n \\nI   have   2   year   of   industry   experience   with   a   decent   academic   record   and   looking   forward   to   utilizing   the   best   of  \\xa0\\nmy   knowledge   in   the   field   of   Machine   Learning.   Having   skill   in   Machine   Learning,   Deep   learning,   Artificial  \\xa0\\nIntelligence.   I   Hope   to   focus   more   on   machine   learning   and   data   science   in   my   future   career.   \\xa0\\n \\xa0\\nTECHNICAL   EXPERTISE \\n \\xa0\\n\\xa0\\n\\xa0\\n● Strong   IT   experience   in   analysis,   design,   development,   implementation   and   testing   of   Image  \\xa0\\nclassification   systems   in    Python    &    Deep-Learning    technologies.   \\xa0\\n● Expertise   in   working   with   various    Deep   Learning    technologies   like    Tensorflow(Gpu) ,    Keras,   Fast   AI ,  \\xa0\\n&    Pytorch .   \\xa0\\nanalysis.   \\xa0\\nPlotly .   \\xa0\\n● Expertise   in    NLP    with   various   technologies   like    Spacy ,    Gensim    &    Sentiment   Analysis .   \\xa0\\n● Expertise   in    Data   Analysis    with   machine   learning’s   technologies    Pandas ,    Sci-kit   learn    for   predictive  \\xa0\\n● Expertise   in    Data   Visualization    with   various   technologies   like    Matplot-lib ,    Seaborn ,    Bokeh    and  \\xa0\\n● Expertise   in   model   deployment   using    Restful   Api   flask .   \\xa0\\n● Hand-on   experience   of    Django    and    Flask    as   backend   technologies.   \\xa0\\n● Good   knowledge   in   web   scraping   using    Scrapy    ,    Beautiful   Soup    technologies.   \\xa0\\n \\xa0\\nTECHNICAL   SKILLS \\nPython,   C,   C++,   MySql,   Tensorflow,   Keras,   Pytorch,   Fast   AI,   Yolo,   Image   processing,   AWS   EC2  \\xa0\\nInstance,   Flask,   Django,   Scrapy   \\xa0\\n \\xa0\\n \\xa0\\n \\xa0\\nPROFESSIONAL   EXPERIENCE \\nO RGANIZATION :   U MAGINE S OFT    P VT .   L TD .   \\xa0\\nRole:   Machine   Learning   Engineer,   Sep   2019   –   present   \\xa0\\n \\xa0\\nI   am   working   as   a   Machine   Learning   Engineer   in   the   Project   development   domain.   We   have   a   team   of   3  \\xa0\\nmembers   of   technical   staff.   My   basic   task   is   to   develop   an   optimized   solution   from   a   Deep   learning   end   for   a  \\xa0\\nparticular   required   scenario.   \\xa0\\n \\xa0\\nKey   Responsibility   -   \\xa0\\n \\xa0\\n● Our   team   member   of   three   made   a   recommender   system   for   umaginesoft   platform(WizKonnect),   along   with  \\xa0\\nit   my   basic   task   is   to   develop   a   filter   for   image   classification(NSFW)   to   make   our   platform   consistently   best  \\xa0\\nto   face   such   type   of   irregularity,   I   used   cnn   for   classification   with   computer   vision   technique.   \\xa0\\n● Single   handedly   develop   a   deep   learning   model   to   analyse   security   threats   with   high   priority   regarding  \\xa0\\nfirearm   detection   with   great   resolution   also,   using   the   most   iconic   technique    Yolo.   \\xa0\\n● Our   team   was   assigned   to   develop   a   seminar   feedback   system   with   an   automated   machine   learning   model,  \\xa0\\nwhich   gives   feedback   of   any   seminar,   through   computer   vision   technique.    \\n\\xa0\\xa0\\n● Our   team   made   a   product   for   human   activity   recognition   through   2d-pose   estimation   and   some   of   our   basic  \\xa0\\nalgorithms.(cycling   was   one   of   the   best   and   challenging   activity)   \\xa0\\n● Worked   on   sentiment   analysis   and   emotion   classification   systems   after   using    web   scraping.   \\xa0\\n \\xa0\\n \\xa0\\n \\xa0\\nEnvironment   &   Tools/IDE:    Python,   MySql,   Tensorflow,   Keras,Fast   AI,   Darknet’s   Yolo,   Lableimg,   Git,  \\xa0\\nAnaconda,   Spider,   OpenCV,   Pandas,   Scikit   Learn,Flask,   Linux.    \\n\\xa0\\xa0\\n \\xa0\\nO RGANIZATION :   ART   -   A BSTINENT    R ESEARCH    &   T ECHNOLOGIES   \\xa0\\nRole:   Machine   Learning   Intern ,    Aug   2019   –   Sep   2019   \\xa0\\n\\xa0\\nIt   was   my   first   paid   internship   after   my   B.Tech,   Here   I   got   an   opportunity   to   work   with   open-cv   but   this   time   on  \\xa0\\na   real   world   problem.My   basic   task   is   to   provide   an   optimized   out-put   with   machine   learning   technique.   \\xa0\\n \\xa0\\nKey   Responsibility   -   \\xa0\\n \\xa0\\n● I   made   a   system   for   identity   recognition   to   prepare   and   maintain   records   and   case   files,   including  \\xa0\\ndocumentation   such   as   user   personal   and   eligibility   information,   services   provided,   narratives   of   client  \\xa0\\ncontacts,   and   relevant   correspondence.   \\xa0\\n● Coordinate   with   the   team   to   develop   a   project   regarding   foot   fall   counting   using   transfer   learning(Res-net)  \\xa0\\nwith   70-80%   accuracy.   \\xa0\\n \\xa0\\nEnvironment   &   Tools/IDE:    Python,   SQLite,   Tensorflow,   Keras,   Anaconda,   Spider,   OpenCV,   Pandas,   Scikit  \\xa0\\nLearn,Flask,   Linux,   ResNet.    \\n\\xa0\\xa0\\n \\xa0\\nO RGANIZATION :    FINAMICS   GLOBAL   \\xa0\\nRole:   Research   Intern,   Nov   2018   -   Jan   2019    \\xa0\\xa0\\n \\xa0\\nWe   are   a   team   of   3   responsible   for   research   machine   learning   algorithms   as   well   as   finance   here,   so   our   team  \\xa0\\ncould   make   effective   solution   for   stock   market   trading.(R&D)   \\xa0\\n● We   pre-processed   our   time   series   data   of   the   stock   market   and   then   finally   we   made   a   model   with  \\xa0\\ntensorflow   using   LSTM   with   very   minimal   loss.We   made   an   agent   for   self   trading   which   uses   a  \\xa0\\nreinforcement   algorithm.   \\xa0\\n \\xa0\\n \\xa0\\nEDUCATION \\nJIWAJI   UNIVERSITY ,   GWALIOR,   MP   \\xa0\\nBachelor   of   Engineering   in   Computer   Science,   JUNE   2019   \\xa0\\n● Percentage   -    70%   \\xa0\\n \\xa0\\nHigher   Secondary   MP   BOARD   \\xa0\\n● Percentage   -    87%   \\xa0\\n \\xa0\\nCERTIFICATION   \\xa0\\nDeep   learning   Specialization   -    Deeplearning.AI   (Coursera)   \\xa0\\nMachine   learning   with   python   -     Udemy   \\xa0\\npython   Specialization   -    University   of   Michigan    (Coursera)   \\xa0\\nNLP   Bootcamp   -    Datacamp   \\xa0\\n \\xa0\\nACHIEVEMENTS   &   RECOGNITION   \\xa0\\n● Client   Appreciation   for   handling   multiple   tasks   at   same   time   under   tight   deadlines.   \\xa0\\n● Recognition   from   lead   for   being   an   excellent   team   player.   \\xa0\\n● Coordinator   of   my   university   youth   fest   2018.   \\xa0\\n● 2   nd   Finisher   in   IoT   Solution   Development   Competition   at   IIT   Kanpur.   \\xa0\\n \\xa0\\n \\xa0\\n \\xa0\\n', start_char_idx=None, end_char_idx=None, text_template='{metadata_str}\\n\\n{content}', metadata_template='{key}: {value}', metadata_seperator='\\n')]"
      ]
     },
     "execution_count": 8,
     "metadata": {},
     "output_type": "execute_result"
    }
   ],
   "source": [
    "documents"
   ]
  },
  {
   "cell_type": "code",
   "execution_count": 9,
   "metadata": {},
   "outputs": [
    {
     "name": "stderr",
     "output_type": "stream",
     "text": [
      "d:\\llmaIndex-2\\llidx_venv\\lib\\site-packages\\tqdm\\auto.py:21: TqdmWarning: IProgress not found. Please update jupyter and ipywidgets. See https://ipywidgets.readthedocs.io/en/stable/user_install.html\n",
      "  from .autonotebook import tqdm as notebook_tqdm\n",
      "Parsing nodes: 100%|██████████| 3/3 [00:00<00:00, 100.00it/s]\n",
      "Generating embeddings: 100%|██████████| 5/5 [00:01<00:00,  3.93it/s]\n"
     ]
    }
   ],
   "source": [
    "index = VectorStoreIndex.from_documents(documents,show_progress=True)"
   ]
  },
  {
   "cell_type": "code",
   "execution_count": 10,
   "metadata": {},
   "outputs": [
    {
     "data": {
      "text/plain": [
       "<llama_index.core.indices.vector_store.base.VectorStoreIndex at 0x1df16624700>"
      ]
     },
     "execution_count": 10,
     "metadata": {},
     "output_type": "execute_result"
    }
   ],
   "source": [
    "index"
   ]
  },
  {
   "cell_type": "code",
   "execution_count": 11,
   "metadata": {},
   "outputs": [],
   "source": [
    "query_engine = index.as_query_engine()"
   ]
  },
  {
   "cell_type": "code",
   "execution_count": 13,
   "metadata": {},
   "outputs": [],
   "source": [
    "response = query_engine.query(\"What are the names of the candidates?\")"
   ]
  },
  {
   "cell_type": "code",
   "execution_count": 14,
   "metadata": {},
   "outputs": [
    {
     "data": {
      "text/plain": [
       "Response(response='Ashish Yadav and Arushi Gupta', source_nodes=[NodeWithScore(node=TextNode(id_='31d5de78-3b49-4a87-8f02-cc60e5e44402', embedding=None, metadata={'file_path': 'D:\\\\llmaIndex-2\\\\data_folder\\\\2pdf_log.txt', 'file_name': '2pdf_log.txt', 'file_type': 'text/plain', 'file_size': 700, 'creation_date': '2024-04-30', 'last_modified_date': '2022-05-02'}, excluded_embed_metadata_keys=['file_name', 'file_type', 'file_size', 'creation_date', 'last_modified_date', 'last_accessed_date'], excluded_llm_metadata_keys=['file_name', 'file_type', 'file_size', 'creation_date', 'last_modified_date', 'last_accessed_date'], relationships={<NodeRelationship.SOURCE: '1'>: RelatedNodeInfo(node_id='75606a7b-7d92-4fc6-8c8e-70fae22ae61b', node_type=<ObjectType.DOCUMENT: '4'>, metadata={'file_path': 'D:\\\\llmaIndex-2\\\\data_folder\\\\2pdf_log.txt', 'file_name': '2pdf_log.txt', 'file_type': 'text/plain', 'file_size': 700, 'creation_date': '2024-04-30', 'last_modified_date': '2022-05-02'}, hash='40e3ddba0deb410971ac6f03c88b342a9b48fed104c3854a471e2d60470d6fd2'), <NodeRelationship.PREVIOUS: '2'>: RelatedNodeInfo(node_id='edf87845-f8d7-44f5-bd4e-1452e2c722ca', node_type=<ObjectType.TEXT: '1'>, metadata={'file_path': 'D:\\\\llmaIndex-2\\\\data_folder\\\\1pdf_log.txt', 'file_name': '1pdf_log.txt', 'file_type': 'text/plain', 'file_size': 2911, 'creation_date': '2024-04-30', 'last_modified_date': '2022-05-02'}, hash='fa03c4759555fb1b52f8691649aa3afe24f44aaf1d888df97c6df34dae295687'), <NodeRelationship.NEXT: '3'>: RelatedNodeInfo(node_id='b0206043-bf00-4172-9f2c-d3cd4606abb5', node_type=<ObjectType.TEXT: '1'>, metadata={}, hash='97ff1fec64f6a0da9426ce33bb6e825ae01eeb7e5f5021514d953990e422703e')}, text=\"Email ID\\nraoashutosh0000@gmail.com\\n:\\n:\\nAddress\\nHno-14 opp gov school Mirzapur tigaon road ballabgarh, Faridabad, Haryana, India - 121004\\nFresh graduate eager to use my knowledge and learn new skills to contribute to your company's growth.\\nAshish yadav\\nMobile\\n8700791076\\n:\\nObjective\\nEducation\\nCollege\\nmanav rachna international university, Bachelor - B.tech\\nSchool\\nntpc sachdeva international school\\nWork Experience\\nmaac institute\\nFaridabad, India\\nfresher\\nDone project named - BRANIA:- AN INTELLIGENT ASSISTENT\\nSkills & Interests\\nHobbies:\\nPlaying Cricket Reading\\n, \\nOther Work Skills\\nCreating Presentations\\nMicrosoft Excel\\nPYTHON PROGRAMMING\\nFull Time, May 2020\\nMarch 2014\\nJune 2019 - August 2019\", start_char_idx=0, end_char_idx=695, text_template='{metadata_str}\\n\\n{content}', metadata_template='{key}: {value}', metadata_seperator='\\n'), score=0.7215537497687231), NodeWithScore(node=TextNode(id_='edf87845-f8d7-44f5-bd4e-1452e2c722ca', embedding=None, metadata={'file_path': 'D:\\\\llmaIndex-2\\\\data_folder\\\\1pdf_log.txt', 'file_name': '1pdf_log.txt', 'file_type': 'text/plain', 'file_size': 2911, 'creation_date': '2024-04-30', 'last_modified_date': '2022-05-02'}, excluded_embed_metadata_keys=['file_name', 'file_type', 'file_size', 'creation_date', 'last_modified_date', 'last_accessed_date'], excluded_llm_metadata_keys=['file_name', 'file_type', 'file_size', 'creation_date', 'last_modified_date', 'last_accessed_date'], relationships={<NodeRelationship.SOURCE: '1'>: RelatedNodeInfo(node_id='d9273a51-cc48-4b8a-a801-60f85a506984', node_type=<ObjectType.DOCUMENT: '4'>, metadata={'file_path': 'D:\\\\llmaIndex-2\\\\data_folder\\\\1pdf_log.txt', 'file_name': '1pdf_log.txt', 'file_type': 'text/plain', 'file_size': 2911, 'creation_date': '2024-04-30', 'last_modified_date': '2022-05-02'}, hash='4ad2edee58f6e12b0012b2f60f2ec149c142ebc86e19071001a4aa6bc842fce6'), <NodeRelationship.NEXT: '3'>: RelatedNodeInfo(node_id='31d5de78-3b49-4a87-8f02-cc60e5e44402', node_type=<ObjectType.TEXT: '1'>, metadata={}, hash='8c9846d0e32f23f4d1fc515a4073e319accad8d261652c460abb9fae527da739')}, text=\"\\uf095 9176163248\\n\\uf0e0 arushigupta9431@gmail.com\\n\\uf041 Bengaluru\\n\\uf0e1 arushigupta05\\nARUSHI GUPTA\\nSenior System Engineer\\nSUMMARY\\n3.5 years experienced Front-End Web Developer  skilled in UI development with React JS, testing etc. Adept at end to end UI \\ndevelopment including requirement gathering, coding & unit & integration testing. Looking forward to widen my skills and experience \\nin a challenging opportunity in professional organization.\\nPROFESSIONAL EXPERIENCE\\nInfosys Limited\\nBank Of America\\nThe Bank of America Corporation is an American multinational investment bank and financial services holding company\\nProduct: A workplace to store and manage the underwriting documents of the bank.\\nFrontend: React TypeScript, HTML5 , CSS3, Material UI\\nDeveloped multiple screens for the application, reusable components such as  Dialog Box, Tables etc.\\nDec '17 - Present\\nIntegrated the API's to fetch data from clients data base and to add to the database.\\nTested the screens with Jest and Enzyme.\\nBlume Global\\nA US based logistics platform provider, building cloud solutions in the areas of shipment planning , logistics execution and finance.\\nProduct: Modules to store data for delivering products and services more efficiently for assets, visibility, finance, optimization and \\nlogistics.\\nFrontend: React JS, Javascript, HTML5 , CSS3, Material UI\\nDeveloped forms like structure, accordians, autofills , etc that will help the driver to deliver to particular address and help client \\nstore the logs.\\nIdentify recurrent problems with existing sites and come up with fixes.\\nLangiage localisation for application to be available in required languages.\\nIntegrated the API's to fetch data from clients data base and to add to the database.\\nSysco\\nA US based MNC inolved in distribution of food products, smallwares, kitchenware equipments to restraunts, healthcare facilities , hotels , etc.\\nProduct: Developed application to view and update the freight rate and pickup allowances for multiple vendors across US. And also  \\ndeveloped a part of content management tool to manage the financial documents of the client.\\nFrontend: React JS, Redux,  Javascript HTML5 , CSS3, Bootstrap\\nDeveloped user friendly responsive screens for the application.\\nCreated the country based login screen and dashboard.\\nWorked in application design and architecture to add all the details of the vendor and freight rates.\\nIntegrated the API's to fetch data from clients data base and to add to the database.\\nUI Development \\nUnit Testing\\n Agile Methodology\\n Code Optimization \\nDocumentation\\nKEY SKILLS\\nTECHNICAL SKILLS\\nTechnologies: JavaScript, React JS, Redux, Hooks, HTML5, CSS3, Typescript\\nCSS : CSS3, Bootstrap, Material UI\\nTesting Tools: Jest and Enzyme\\nCERTIFICATIONS\\nUdacity certified Front End Web Developer Nanodegree Program\\nEDUCATION\\nSRM University\\nB.Tech in Electronics and Communications\\nCreated Using\\nApr '13 - May '17\\nChennai, TN\", start_char_idx=0, end_char_idx=2902, text_template='{metadata_str}\\n\\n{content}', metadata_template='{key}: {value}', metadata_seperator='\\n'), score=0.7006961280090716)], metadata={'31d5de78-3b49-4a87-8f02-cc60e5e44402': {'file_path': 'D:\\\\llmaIndex-2\\\\data_folder\\\\2pdf_log.txt', 'file_name': '2pdf_log.txt', 'file_type': 'text/plain', 'file_size': 700, 'creation_date': '2024-04-30', 'last_modified_date': '2022-05-02'}, 'edf87845-f8d7-44f5-bd4e-1452e2c722ca': {'file_path': 'D:\\\\llmaIndex-2\\\\data_folder\\\\1pdf_log.txt', 'file_name': '1pdf_log.txt', 'file_type': 'text/plain', 'file_size': 2911, 'creation_date': '2024-04-30', 'last_modified_date': '2022-05-02'}})"
      ]
     },
     "execution_count": 14,
     "metadata": {},
     "output_type": "execute_result"
    }
   ],
   "source": [
    "response"
   ]
  },
  {
   "cell_type": "code",
   "execution_count": 15,
   "metadata": {},
   "outputs": [
    {
     "data": {
      "text/plain": [
       "'Ashish Yadav and Arushi Gupta'"
      ]
     },
     "execution_count": 15,
     "metadata": {},
     "output_type": "execute_result"
    }
   ],
   "source": [
    "response.response"
   ]
  },
  {
   "cell_type": "code",
   "execution_count": 16,
   "metadata": {},
   "outputs": [],
   "source": [
    "response = query_engine.query(\"What is the email id of Ashish Yadav?\")"
   ]
  },
  {
   "cell_type": "code",
   "execution_count": 17,
   "metadata": {},
   "outputs": [
    {
     "data": {
      "text/plain": [
       "'ashishyadav05@gmail.com'"
      ]
     },
     "execution_count": 17,
     "metadata": {},
     "output_type": "execute_result"
    }
   ],
   "source": [
    "response.response"
   ]
  },
  {
   "cell_type": "code",
   "execution_count": 18,
   "metadata": {},
   "outputs": [],
   "source": [
    "response = query_engine.query(\"give me expirence details of every candidate?\")"
   ]
  },
  {
   "cell_type": "code",
   "execution_count": 19,
   "metadata": {},
   "outputs": [
    {
     "data": {
      "text/plain": [
       "'The first candidate is a fresh graduate with no specific work experience mentioned, but has completed a project named \"BRANIA: AN INTELLIGENT ASSISTENT\" during their time at maac institute in Faridabad, India. The second candidate, Arushi Gupta, has 3.5 years of experience as a Senior System Engineer. She has worked at Infosys Limited, Bank of America, Blume Global, and Sysco, where she was involved in frontend development using technologies like React JS, Redux, JavaScript, HTML5, CSS3, Bootstrap, and Material UI.'"
      ]
     },
     "execution_count": 19,
     "metadata": {},
     "output_type": "execute_result"
    }
   ],
   "source": [
    "response.response"
   ]
  },
  {
   "cell_type": "code",
   "execution_count": 20,
   "metadata": {},
   "outputs": [],
   "source": [
    "response = query_engine.query(\"what are the profession of the candidates ?\")"
   ]
  },
  {
   "cell_type": "code",
   "execution_count": 21,
   "metadata": {},
   "outputs": [
    {
     "data": {
      "text/plain": [
       "'The professions of the candidates are Machine Learning Engineer and Fresh Graduate.'"
      ]
     },
     "execution_count": 21,
     "metadata": {},
     "output_type": "execute_result"
    }
   ],
   "source": [
    "response.response"
   ]
  },
  {
   "cell_type": "code",
   "execution_count": null,
   "metadata": {},
   "outputs": [],
   "source": []
  }
 ],
 "metadata": {
  "kernelspec": {
   "display_name": "llidx_venv",
   "language": "python",
   "name": "python3"
  },
  "language_info": {
   "codemirror_mode": {
    "name": "ipython",
    "version": 3
   },
   "file_extension": ".py",
   "mimetype": "text/x-python",
   "name": "python",
   "nbconvert_exporter": "python",
   "pygments_lexer": "ipython3",
   "version": "3.10.4"
  }
 },
 "nbformat": 4,
 "nbformat_minor": 2
}
